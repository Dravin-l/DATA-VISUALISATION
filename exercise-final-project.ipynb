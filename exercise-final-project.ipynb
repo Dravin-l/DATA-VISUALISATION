{
 "cells": [
  {
   "cell_type": "markdown",
   "id": "6591a03c",
   "metadata": {
    "papermill": {
     "duration": 0.006111,
     "end_time": "2023-07-12T17:37:02.726147",
     "exception": false,
     "start_time": "2023-07-12T17:37:02.720036",
     "status": "completed"
    },
    "tags": []
   },
   "source": [
    "**This notebook is an exercise in the [Data Visualization](https://www.kaggle.com/learn/data-visualization) course.  You can reference the tutorial at [this link](https://www.kaggle.com/alexisbcook/final-project).**\n",
    "\n",
    "---\n"
   ]
  },
  {
   "cell_type": "markdown",
   "id": "b5a62072",
   "metadata": {
    "papermill": {
     "duration": 0.005261,
     "end_time": "2023-07-12T17:37:02.737514",
     "exception": false,
     "start_time": "2023-07-12T17:37:02.732253",
     "status": "completed"
    },
    "tags": []
   },
   "source": [
    "Now it's time for you to demonstrate your new skills with a project of your own!\n",
    "\n",
    "In this exercise, you will work with a dataset of your choosing.  Once you've selected a dataset, you'll design and create your own plot to tell interesting stories behind the data!\n",
    "\n",
    "## Setup\n",
    "\n",
    "Run the next cell to import and configure the Python libraries that you need to complete the exercise."
   ]
  },
  {
   "cell_type": "code",
   "execution_count": 1,
   "id": "faee8633",
   "metadata": {
    "execution": {
     "iopub.execute_input": "2023-07-12T17:37:02.750730Z",
     "iopub.status.busy": "2023-07-12T17:37:02.750175Z",
     "iopub.status.idle": "2023-07-12T17:37:04.361685Z",
     "shell.execute_reply": "2023-07-12T17:37:04.360530Z"
    },
    "papermill": {
     "duration": 1.621375,
     "end_time": "2023-07-12T17:37:04.364447",
     "exception": false,
     "start_time": "2023-07-12T17:37:02.743072",
     "status": "completed"
    },
    "tags": []
   },
   "outputs": [
    {
     "name": "stderr",
     "output_type": "stream",
     "text": [
      "/opt/conda/lib/python3.10/site-packages/scipy/__init__.py:146: UserWarning: A NumPy version >=1.16.5 and <1.23.0 is required for this version of SciPy (detected version 1.23.5\n",
      "  warnings.warn(f\"A NumPy version >={np_minversion} and <{np_maxversion}\"\n"
     ]
    },
    {
     "name": "stdout",
     "output_type": "stream",
     "text": [
      "Setup Complete\n"
     ]
    }
   ],
   "source": [
    "import pandas as pd\n",
    "pd.plotting.register_matplotlib_converters()\n",
    "import matplotlib.pyplot as plt\n",
    "%matplotlib inline\n",
    "import seaborn as sns\n",
    "print(\"Setup Complete\")"
   ]
  },
  {
   "cell_type": "markdown",
   "id": "1455e973",
   "metadata": {
    "papermill": {
     "duration": 0.005375,
     "end_time": "2023-07-12T17:37:04.375476",
     "exception": false,
     "start_time": "2023-07-12T17:37:04.370101",
     "status": "completed"
    },
    "tags": []
   },
   "source": [
    "The questions below will give you feedback on your work. Run the following cell to set up the feedback system."
   ]
  },
  {
   "cell_type": "code",
   "execution_count": 2,
   "id": "72cca363",
   "metadata": {
    "execution": {
     "iopub.execute_input": "2023-07-12T17:37:04.388436Z",
     "iopub.status.busy": "2023-07-12T17:37:04.388007Z",
     "iopub.status.idle": "2023-07-12T17:37:04.432656Z",
     "shell.execute_reply": "2023-07-12T17:37:04.431384Z"
    },
    "papermill": {
     "duration": 0.05416,
     "end_time": "2023-07-12T17:37:04.435197",
     "exception": false,
     "start_time": "2023-07-12T17:37:04.381037",
     "status": "completed"
    },
    "tags": []
   },
   "outputs": [
    {
     "name": "stdout",
     "output_type": "stream",
     "text": [
      "Setup Complete\n"
     ]
    }
   ],
   "source": [
    "# Set up code checking\n",
    "from learntools.core import binder\n",
    "binder.bind(globals())\n",
    "from learntools.data_viz_to_coder.ex7 import *\n",
    "print(\"Setup Complete\")"
   ]
  },
  {
   "cell_type": "markdown",
   "id": "c0022cc1",
   "metadata": {
    "papermill": {
     "duration": 0.005317,
     "end_time": "2023-07-12T17:37:04.446129",
     "exception": false,
     "start_time": "2023-07-12T17:37:04.440812",
     "status": "completed"
    },
    "tags": []
   },
   "source": [
    "## Step 1: Attach a dataset to the notebook\n",
    "\n",
    "Begin by selecting a CSV dataset from [Kaggle Datasets](https://www.kaggle.com/datasets).  If you're unsure how to do this, please revisit the instructions in the previous tutorial.\n",
    "\n",
    "Once you have selected a dataset, click on the **[+ Add data]** option in the top right corner.  This will generate a pop-up window that you can use to search for your chosen dataset.  \n",
    "\n",
    "![ex6_search_dataset](https://storage.googleapis.com/kaggle-media/learn/images/cIIWPUS.png)\n",
    "\n",
    "Once you have found the dataset, click on the **[Add]** button to attach it to the notebook.  You can check that it was successful by looking at the **Data** dropdown menu to the right of the notebook -- look for an **input** folder containing a subfolder that matches the name of the dataset.\n",
    "\n",
    "<center>\n",
    "<img src=\"https://storage.googleapis.com/kaggle-media/learn/images/nMYc1Nu.png\" width=30%><br/>\n",
    "</center>\n",
    "\n",
    "You can click on the carat to the left of the name of the dataset to double-check that it contains a CSV file.  For instance, the image below shows that the example dataset contains two CSV files: (1) **dc-wikia-data.csv**, and (2) **marvel-wikia-data.csv**.\n",
    "\n",
    "<center>\n",
    "<img src=\"https://storage.googleapis.com/kaggle-media/learn/images/B4sJkVA.png\" width=30%><br/>\n",
    "</center>\n",
    "\n",
    "Once you've uploaded a dataset with a CSV file, run the code cell below **without changes** to receive credit for your work!"
   ]
  },
  {
   "cell_type": "code",
   "execution_count": 3,
   "id": "db243389",
   "metadata": {
    "execution": {
     "iopub.execute_input": "2023-07-12T17:37:04.459030Z",
     "iopub.status.busy": "2023-07-12T17:37:04.458635Z",
     "iopub.status.idle": "2023-07-12T17:37:04.471943Z",
     "shell.execute_reply": "2023-07-12T17:37:04.470766Z"
    },
    "papermill": {
     "duration": 0.022572,
     "end_time": "2023-07-12T17:37:04.474205",
     "exception": false,
     "start_time": "2023-07-12T17:37:04.451633",
     "status": "completed"
    },
    "tags": []
   },
   "outputs": [
    {
     "data": {
      "application/javascript": [
       "parent.postMessage({\"jupyterEvent\": \"custom.exercise_interaction\", \"data\": {\"outcomeType\": 1, \"valueTowardsCompletion\": 0.25, \"interactionType\": 1, \"questionType\": 2, \"questionId\": \"1_AttachData\", \"learnToolsVersion\": \"0.3.4\", \"failureMessage\": \"\", \"exceptionClass\": \"\", \"trace\": \"\"}}, \"*\")"
      ],
      "text/plain": [
       "<IPython.core.display.Javascript object>"
      ]
     },
     "metadata": {},
     "output_type": "display_data"
    },
    {
     "data": {
      "text/markdown": [
       "<span style=\"color:#33cc33\">Correct:</span> \n",
       "\n"
      ],
      "text/plain": [
       "Correct: \n"
      ]
     },
     "metadata": {},
     "output_type": "display_data"
    }
   ],
   "source": [
    "# Check for a dataset with a CSV file\n",
    "step_1.check()"
   ]
  },
  {
   "cell_type": "markdown",
   "id": "7ec7a21f",
   "metadata": {
    "papermill": {
     "duration": 0.005632,
     "end_time": "2023-07-12T17:37:04.485923",
     "exception": false,
     "start_time": "2023-07-12T17:37:04.480291",
     "status": "completed"
    },
    "tags": []
   },
   "source": [
    "## Step 2: Specify the filepath\n",
    "\n",
    "Now that the dataset is attached to the notebook, you can find its filepath.  To do this, begin by clicking on the CSV file you'd like to use.  This will open the CSV file in a tab below the notebook.  You can find the filepath towards the top of this new tab.  \n",
    "\n",
    "![ex6_filepath](https://storage.googleapis.com/kaggle-media/learn/images/fgXQV47.png)\n",
    "\n",
    "After you find the filepath corresponding to your dataset, fill it in as the value for `my_filepath` in the code cell below, and run the code cell to check that you've provided a valid filepath.  For instance, in the case of this example dataset, we would set\n",
    "```\n",
    "my_filepath = \"../input/fivethirtyeight-comic-characters-dataset/dc-wikia-data.csv\"\n",
    "```  \n",
    "Note that **you must enclose the filepath in quotation marks**; otherwise, the code will return an error.\n",
    "\n",
    "Once you've entered the filepath, you can close the tab below the notebook by clicking on the **[X]** at the top of the tab."
   ]
  },
  {
   "cell_type": "code",
   "execution_count": 4,
   "id": "06f20084",
   "metadata": {
    "execution": {
     "iopub.execute_input": "2023-07-12T17:37:04.499615Z",
     "iopub.status.busy": "2023-07-12T17:37:04.499158Z",
     "iopub.status.idle": "2023-07-12T17:37:04.509148Z",
     "shell.execute_reply": "2023-07-12T17:37:04.507994Z"
    },
    "papermill": {
     "duration": 0.019814,
     "end_time": "2023-07-12T17:37:04.511719",
     "exception": false,
     "start_time": "2023-07-12T17:37:04.491905",
     "status": "completed"
    },
    "tags": []
   },
   "outputs": [
    {
     "data": {
      "application/javascript": [
       "parent.postMessage({\"jupyterEvent\": \"custom.exercise_interaction\", \"data\": {\"outcomeType\": 1, \"valueTowardsCompletion\": 0.25, \"interactionType\": 1, \"questionType\": 2, \"questionId\": \"2_Filepath\", \"learnToolsVersion\": \"0.3.4\", \"failureMessage\": \"\", \"exceptionClass\": \"\", \"trace\": \"\"}}, \"*\")"
      ],
      "text/plain": [
       "<IPython.core.display.Javascript object>"
      ]
     },
     "metadata": {},
     "output_type": "display_data"
    },
    {
     "data": {
      "text/markdown": [
       "<span style=\"color:#33cc33\">Correct:</span> \n",
       "\n"
      ],
      "text/plain": [
       "Correct: \n"
      ]
     },
     "metadata": {},
     "output_type": "display_data"
    }
   ],
   "source": [
    "# Fill in the line below: Specify the path of the CSV file to read\n",
    "my_filepath = \"/kaggle/input/tatasteel-historic-data/TATASTEEL.NS.csv\"\n",
    "\n",
    "# Check for a valid filepath to a CSV file in a dataset\n",
    "step_2.check()"
   ]
  },
  {
   "cell_type": "markdown",
   "id": "3ef908b4",
   "metadata": {
    "papermill": {
     "duration": 0.006176,
     "end_time": "2023-07-12T17:37:04.524696",
     "exception": false,
     "start_time": "2023-07-12T17:37:04.518520",
     "status": "completed"
    },
    "tags": []
   },
   "source": [
    "## Step 3: Load the data\n",
    "\n",
    "Use the next code cell to load your data file into `my_data`.  Use the filepath that you specified in the previous step."
   ]
  },
  {
   "cell_type": "code",
   "execution_count": 5,
   "id": "9643ef01",
   "metadata": {
    "execution": {
     "iopub.execute_input": "2023-07-12T17:37:04.539371Z",
     "iopub.status.busy": "2023-07-12T17:37:04.538944Z",
     "iopub.status.idle": "2023-07-12T17:37:04.566998Z",
     "shell.execute_reply": "2023-07-12T17:37:04.566143Z"
    },
    "papermill": {
     "duration": 0.038106,
     "end_time": "2023-07-12T17:37:04.569119",
     "exception": false,
     "start_time": "2023-07-12T17:37:04.531013",
     "status": "completed"
    },
    "tags": []
   },
   "outputs": [
    {
     "data": {
      "application/javascript": [
       "parent.postMessage({\"jupyterEvent\": \"custom.exercise_interaction\", \"data\": {\"outcomeType\": 1, \"valueTowardsCompletion\": 0.25, \"interactionType\": 1, \"questionType\": 2, \"questionId\": \"3_LoadData\", \"learnToolsVersion\": \"0.3.4\", \"failureMessage\": \"\", \"exceptionClass\": \"\", \"trace\": \"\"}}, \"*\")"
      ],
      "text/plain": [
       "<IPython.core.display.Javascript object>"
      ]
     },
     "metadata": {},
     "output_type": "display_data"
    },
    {
     "data": {
      "text/markdown": [
       "<span style=\"color:#33cc33\">Correct:</span> \n",
       "\n"
      ],
      "text/plain": [
       "Correct: \n"
      ]
     },
     "metadata": {},
     "output_type": "display_data"
    }
   ],
   "source": [
    "# Fill in the line below: Read the file into a variable my_data\n",
    "my_data = pd.read_csv(\"/kaggle/input/tatasteel-historic-data/TATASTEEL.NS.csv\")\n",
    "\n",
    "# Check that a dataset has been uploaded into my_data\n",
    "step_3.check()"
   ]
  },
  {
   "cell_type": "markdown",
   "id": "fa16bb50",
   "metadata": {
    "papermill": {
     "duration": 0.006373,
     "end_time": "2023-07-12T17:37:04.583409",
     "exception": false,
     "start_time": "2023-07-12T17:37:04.577036",
     "status": "completed"
    },
    "tags": []
   },
   "source": [
    "**_After the code cell above is marked correct_**, run the code cell below without changes to view the first five rows of the data."
   ]
  },
  {
   "cell_type": "code",
   "execution_count": 6,
   "id": "af772da5",
   "metadata": {
    "execution": {
     "iopub.execute_input": "2023-07-12T17:37:04.598952Z",
     "iopub.status.busy": "2023-07-12T17:37:04.598103Z",
     "iopub.status.idle": "2023-07-12T17:37:04.622075Z",
     "shell.execute_reply": "2023-07-12T17:37:04.621007Z"
    },
    "papermill": {
     "duration": 0.03428,
     "end_time": "2023-07-12T17:37:04.624281",
     "exception": false,
     "start_time": "2023-07-12T17:37:04.590001",
     "status": "completed"
    },
    "tags": []
   },
   "outputs": [
    {
     "data": {
      "text/html": [
       "<div>\n",
       "<style scoped>\n",
       "    .dataframe tbody tr th:only-of-type {\n",
       "        vertical-align: middle;\n",
       "    }\n",
       "\n",
       "    .dataframe tbody tr th {\n",
       "        vertical-align: top;\n",
       "    }\n",
       "\n",
       "    .dataframe thead th {\n",
       "        text-align: right;\n",
       "    }\n",
       "</style>\n",
       "<table border=\"1\" class=\"dataframe\">\n",
       "  <thead>\n",
       "    <tr style=\"text-align: right;\">\n",
       "      <th></th>\n",
       "      <th>Date</th>\n",
       "      <th>Open</th>\n",
       "      <th>High</th>\n",
       "      <th>Low</th>\n",
       "      <th>Close</th>\n",
       "      <th>Adj Close</th>\n",
       "      <th>Volume</th>\n",
       "    </tr>\n",
       "  </thead>\n",
       "  <tbody>\n",
       "    <tr>\n",
       "      <th>0</th>\n",
       "      <td>2022-06-10</td>\n",
       "      <td>103.000000</td>\n",
       "      <td>103.139999</td>\n",
       "      <td>101.065002</td>\n",
       "      <td>102.370003</td>\n",
       "      <td>45.504997</td>\n",
       "      <td>95225630</td>\n",
       "    </tr>\n",
       "    <tr>\n",
       "      <th>1</th>\n",
       "      <td>2022-06-13</td>\n",
       "      <td>100.430000</td>\n",
       "      <td>101.199997</td>\n",
       "      <td>99.000000</td>\n",
       "      <td>99.195000</td>\n",
       "      <td>44.093662</td>\n",
       "      <td>82235750</td>\n",
       "    </tr>\n",
       "    <tr>\n",
       "      <th>2</th>\n",
       "      <td>2022-06-14</td>\n",
       "      <td>98.824997</td>\n",
       "      <td>101.370003</td>\n",
       "      <td>98.555000</td>\n",
       "      <td>99.614998</td>\n",
       "      <td>44.280357</td>\n",
       "      <td>77202600</td>\n",
       "    </tr>\n",
       "    <tr>\n",
       "      <th>3</th>\n",
       "      <td>2022-06-15</td>\n",
       "      <td>95.394997</td>\n",
       "      <td>97.425003</td>\n",
       "      <td>95.065002</td>\n",
       "      <td>95.955002</td>\n",
       "      <td>44.955002</td>\n",
       "      <td>92443330</td>\n",
       "    </tr>\n",
       "    <tr>\n",
       "      <th>4</th>\n",
       "      <td>2022-06-16</td>\n",
       "      <td>97.500000</td>\n",
       "      <td>97.500000</td>\n",
       "      <td>89.820000</td>\n",
       "      <td>90.169998</td>\n",
       "      <td>90.169998</td>\n",
       "      <td>122741050</td>\n",
       "    </tr>\n",
       "  </tbody>\n",
       "</table>\n",
       "</div>"
      ],
      "text/plain": [
       "         Date        Open        High         Low       Close  Adj Close  \\\n",
       "0  2022-06-10  103.000000  103.139999  101.065002  102.370003  45.504997   \n",
       "1  2022-06-13  100.430000  101.199997   99.000000   99.195000  44.093662   \n",
       "2  2022-06-14   98.824997  101.370003   98.555000   99.614998  44.280357   \n",
       "3  2022-06-15   95.394997   97.425003   95.065002   95.955002  44.955002   \n",
       "4  2022-06-16   97.500000   97.500000   89.820000   90.169998  90.169998   \n",
       "\n",
       "      Volume  \n",
       "0   95225630  \n",
       "1   82235750  \n",
       "2   77202600  \n",
       "3   92443330  \n",
       "4  122741050  "
      ]
     },
     "execution_count": 6,
     "metadata": {},
     "output_type": "execute_result"
    }
   ],
   "source": [
    "# Print the first five rows of the data\n",
    "my_data.head()"
   ]
  },
  {
   "cell_type": "markdown",
   "id": "d3339c2e",
   "metadata": {
    "papermill": {
     "duration": 0.00682,
     "end_time": "2023-07-12T17:37:04.638201",
     "exception": false,
     "start_time": "2023-07-12T17:37:04.631381",
     "status": "completed"
    },
    "tags": []
   },
   "source": [
    "## Step 4: Visualize the data\n",
    "\n",
    "Use the next code cell to create a figure that tells a story behind your dataset.  You can use any chart type (_line chart, bar chart, heatmap, etc_) of your choosing!"
   ]
  },
  {
   "cell_type": "code",
   "execution_count": 7,
   "id": "df770a51",
   "metadata": {
    "execution": {
     "iopub.execute_input": "2023-07-12T17:37:04.654812Z",
     "iopub.status.busy": "2023-07-12T17:37:04.653721Z",
     "iopub.status.idle": "2023-07-12T17:37:09.000874Z",
     "shell.execute_reply": "2023-07-12T17:37:08.999303Z"
    },
    "papermill": {
     "duration": 4.358052,
     "end_time": "2023-07-12T17:37:09.003373",
     "exception": false,
     "start_time": "2023-07-12T17:37:04.645321",
     "status": "completed"
    },
    "tags": []
   },
   "outputs": [
    {
     "data": {
      "application/javascript": [
       "parent.postMessage({\"jupyterEvent\": \"custom.exercise_interaction\", \"data\": {\"outcomeType\": 1, \"valueTowardsCompletion\": 0.25, \"interactionType\": 1, \"questionType\": 2, \"questionId\": \"4_CreatePlot\", \"learnToolsVersion\": \"0.3.4\", \"failureMessage\": \"\", \"exceptionClass\": \"\", \"trace\": \"\"}}, \"*\")"
      ],
      "text/plain": [
       "<IPython.core.display.Javascript object>"
      ]
     },
     "metadata": {},
     "output_type": "display_data"
    },
    {
     "data": {
      "text/markdown": [
       "<span style=\"color:#33cc33\">Correct:</span> \n",
       "\n"
      ],
      "text/plain": [
       "Correct: \n"
      ]
     },
     "metadata": {},
     "output_type": "display_data"
    },
    {
     "data": {
      "image/png": "[encoded data removed]",
      "text/plain": [
       "<Figure size 640x480 with 1 Axes>"
      ]
     },
     "metadata": {},
     "output_type": "display_data"
    }
   ],
   "source": [
    "# Create a plot\n",
    "sns.set_style(\"darkgrid\")\n",
    "fig,ax=plt.subplots()\n",
    "ax=sns.lineplot(data=my_data,x=my_data['Date'],y=my_data['Close'],color=\"red\") # Your code here\n",
    "ax=sns.histplot(my_data['High'],color=\"green\")\n",
    "# Check that a figure appears below\n",
    "step_4.check()"
   ]
  },
  {
   "cell_type": "markdown",
   "id": "9c853531",
   "metadata": {
    "papermill": {
     "duration": 0.007839,
     "end_time": "2023-07-12T17:37:09.019284",
     "exception": false,
     "start_time": "2023-07-12T17:37:09.011445",
     "status": "completed"
    },
    "tags": []
   },
   "source": [
    "## Keep going\n",
    "\n",
    "Learn how to use your skills after completing the micro-course to create data visualizations in a **[final tutorial](https://www.kaggle.com/alexisbcook/creating-your-own-notebooks)**."
   ]
  },
  {
   "cell_type": "markdown",
   "id": "83c1e521",
   "metadata": {
    "papermill": {
     "duration": 0.007653,
     "end_time": "2023-07-12T17:37:09.034888",
     "exception": false,
     "start_time": "2023-07-12T17:37:09.027235",
     "status": "completed"
    },
    "tags": []
   },
   "source": [
    "---\n",
    "\n",
    "\n",
    "\n",
    "\n",
    "*Have questions or comments? Visit the [course discussion forum](https://www.kaggle.com/learn/data-visualization/discussion) to chat with other learners.*"
   ]
  }
 ],
 "metadata": {
  "kernelspec": {
   "display_name": "Python 3",
   "language": "python",
   "name": "python3"
  },
  "language_info": {
   "codemirror_mode": {
    "name": "ipython",
    "version": 3
   },
   "file_extension": ".py",
   "mimetype": "text/x-python",
   "name": "python",
   "nbconvert_exporter": "python",
   "pygments_lexer": "ipython3",
   "version": "3.10.12"
  },
  "papermill": {
   "default_parameters": {},
   "duration": 19.123881,
   "end_time": "2023-07-12T17:37:10.066989",
   "environment_variables": {},
   "exception": null,
   "input_path": "__notebook__.ipynb",
   "output_path": "__notebook__.ipynb",
   "parameters": {},
   "start_time": "2023-07-12T17:36:50.943108",
   "version": "2.4.0"
  }
 },
 "nbformat": 4,
 "nbformat_minor": 5
}
