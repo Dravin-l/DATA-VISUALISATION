{
 "cells": [
  {
   "cell_type": "markdown",
   "id": "2d04e1c9",
   "metadata": {
    "papermill": {
     "duration": 0.011931,
     "end_time": "2023-07-12T16:58:47.785537",
     "exception": false,
     "start_time": "2023-07-12T16:58:47.773606",
     "status": "completed"
    },
    "tags": []
   },
   "source": [
    "**This notebook is an exercise in the [Data Visualization](https://www.kaggle.com/learn/data-visualization) course.  You can reference the tutorial at [this link](https://www.kaggle.com/alexisbcook/scatter-plots).**\n",
    "\n",
    "---\n"
   ]
  },
  {
   "cell_type": "markdown",
   "id": "22256acd",
   "metadata": {
    "papermill": {
     "duration": 0.011071,
     "end_time": "2023-07-12T16:58:47.808480",
     "exception": false,
     "start_time": "2023-07-12T16:58:47.797409",
     "status": "completed"
    },
    "tags": []
   },
   "source": [
    "In this exercise, you will use your new knowledge to propose a solution to a real-world scenario.  To succeed, you will need to import data into Python, answer questions using the data, and generate **scatter plots** to understand patterns in the data.\n",
    "\n",
    "## Scenario\n",
    "\n",
    "You work for a major candy producer, and your goal is to write a report that your company can use to guide the design of its next product.  Soon after starting your research, you stumble across this [very interesting dataset](https://fivethirtyeight.com/features/the-ultimate-halloween-candy-power-ranking/) containing results from a fun survey to crowdsource favorite candies.\n",
    "\n",
    "## Setup\n",
    "\n",
    "Run the next cell to import and configure the Python libraries that you need to complete the exercise."
   ]
  },
  {
   "cell_type": "code",
   "execution_count": 1,
   "id": "da3a7db1",
   "metadata": {
    "execution": {
     "iopub.execute_input": "2023-07-12T16:58:47.836404Z",
     "iopub.status.busy": "2023-07-12T16:58:47.835449Z",
     "iopub.status.idle": "2023-07-12T16:58:49.293823Z",
     "shell.execute_reply": "2023-07-12T16:58:49.292129Z"
    },
    "papermill": {
     "duration": 1.47589,
     "end_time": "2023-07-12T16:58:49.296290",
     "exception": false,
     "start_time": "2023-07-12T16:58:47.820400",
     "status": "completed"
    },
    "tags": []
   },
   "outputs": [
    {
     "name": "stderr",
     "output_type": "stream",
     "text": [
      "/opt/conda/lib/python3.10/site-packages/scipy/__init__.py:146: UserWarning: A NumPy version >=1.16.5 and <1.23.0 is required for this version of SciPy (detected version 1.23.5\n",
      "  warnings.warn(f\"A NumPy version >={np_minversion} and <{np_maxversion}\"\n"
     ]
    },
    {
     "name": "stdout",
     "output_type": "stream",
     "text": [
      "Setup Complete\n"
     ]
    }
   ],
   "source": [
    "import pandas as pd\n",
    "pd.plotting.register_matplotlib_converters()\n",
    "import matplotlib.pyplot as plt\n",
    "%matplotlib inline\n",
    "import seaborn as sns\n",
    "print(\"Setup Complete\")"
   ]
  },
  {
   "cell_type": "markdown",
   "id": "a99f4365",
   "metadata": {
    "papermill": {
     "duration": 0.011528,
     "end_time": "2023-07-12T16:58:49.320382",
     "exception": false,
     "start_time": "2023-07-12T16:58:49.308854",
     "status": "completed"
    },
    "tags": []
   },
   "source": [
    "The questions below will give you feedback on your work. Run the following cell to set up our feedback system."
   ]
  },
  {
   "cell_type": "code",
   "execution_count": 2,
   "id": "a845c978",
   "metadata": {
    "execution": {
     "iopub.execute_input": "2023-07-12T16:58:49.347147Z",
     "iopub.status.busy": "2023-07-12T16:58:49.346452Z",
     "iopub.status.idle": "2023-07-12T16:58:49.417137Z",
     "shell.execute_reply": "2023-07-12T16:58:49.415731Z"
    },
    "papermill": {
     "duration": 0.086505,
     "end_time": "2023-07-12T16:58:49.420061",
     "exception": false,
     "start_time": "2023-07-12T16:58:49.333556",
     "status": "completed"
    },
    "tags": []
   },
   "outputs": [
    {
     "name": "stdout",
     "output_type": "stream",
     "text": [
      "Setup Complete\n"
     ]
    }
   ],
   "source": [
    "# Set up code checking\n",
    "import os\n",
    "if not os.path.exists(\"../input/candy.csv\"):\n",
    "    os.symlink(\"../input/data-for-datavis/candy.csv\", \"../input/candy.csv\") \n",
    "from learntools.core import binder\n",
    "binder.bind(globals())\n",
    "from learntools.data_viz_to_coder.ex4 import *\n",
    "print(\"Setup Complete\")"
   ]
  },
  {
   "cell_type": "markdown",
   "id": "e35ee1fe",
   "metadata": {
    "papermill": {
     "duration": 0.011924,
     "end_time": "2023-07-12T16:58:49.444664",
     "exception": false,
     "start_time": "2023-07-12T16:58:49.432740",
     "status": "completed"
    },
    "tags": []
   },
   "source": [
    "## Step 1: Load the Data\n",
    "\n",
    "Read the candy data file into `candy_data`.  Use the `\"id\"` column to label the rows."
   ]
  },
  {
   "cell_type": "code",
   "execution_count": 3,
   "id": "7ca0ab30",
   "metadata": {
    "execution": {
     "iopub.execute_input": "2023-07-12T16:58:49.471425Z",
     "iopub.status.busy": "2023-07-12T16:58:49.471038Z",
     "iopub.status.idle": "2023-07-12T16:58:49.488599Z",
     "shell.execute_reply": "2023-07-12T16:58:49.487765Z"
    },
    "papermill": {
     "duration": 0.03363,
     "end_time": "2023-07-12T16:58:49.490606",
     "exception": false,
     "start_time": "2023-07-12T16:58:49.456976",
     "status": "completed"
    },
    "tags": []
   },
   "outputs": [
    {
     "data": {
      "application/javascript": [
       "parent.postMessage({\"jupyterEvent\": \"custom.exercise_interaction\", \"data\": {\"outcomeType\": 1, \"valueTowardsCompletion\": 0.3333333333333333, \"interactionType\": 1, \"questionType\": 1, \"questionId\": \"1_LoadData\", \"learnToolsVersion\": \"0.3.4\", \"failureMessage\": \"\", \"exceptionClass\": \"\", \"trace\": \"\"}}, \"*\")"
      ],
      "text/plain": [
       "<IPython.core.display.Javascript object>"
      ]
     },
     "metadata": {},
     "output_type": "display_data"
    },
    {
     "data": {
      "text/markdown": [
       "<span style=\"color:#33cc33\">Correct</span>"
      ],
      "text/plain": [
       "Correct"
      ]
     },
     "metadata": {},
     "output_type": "display_data"
    }
   ],
   "source": [
    "# Path of the file to read\n",
    "candy_filepath = \"../input/candy.csv\"\n",
    "\n",
    "# Fill in the line below to read the file into a variable candy_data\n",
    "candy_data = pd.read_csv(candy_filepath, index_col=\"id\")\n",
    "\n",
    "# Run the line below with no changes to check that you've loaded the data correctly\n",
    "step_1.check()"
   ]
  },
  {
   "cell_type": "code",
   "execution_count": 4,
   "id": "d2fdd9fa",
   "metadata": {
    "execution": {
     "iopub.execute_input": "2023-07-12T16:58:49.520986Z",
     "iopub.status.busy": "2023-07-12T16:58:49.520381Z",
     "iopub.status.idle": "2023-07-12T16:58:49.525049Z",
     "shell.execute_reply": "2023-07-12T16:58:49.524011Z"
    },
    "papermill": {
     "duration": 0.024049,
     "end_time": "2023-07-12T16:58:49.527585",
     "exception": false,
     "start_time": "2023-07-12T16:58:49.503536",
     "status": "completed"
    },
    "tags": []
   },
   "outputs": [],
   "source": [
    "# Lines below will give you a hint or solution code\n",
    "#step_1.hint()\n",
    "#step_1.solution()"
   ]
  },
  {
   "cell_type": "markdown",
   "id": "4567d8ad",
   "metadata": {
    "papermill": {
     "duration": 0.012023,
     "end_time": "2023-07-12T16:58:49.552177",
     "exception": false,
     "start_time": "2023-07-12T16:58:49.540154",
     "status": "completed"
    },
    "tags": []
   },
   "source": [
    "## Step 2: Review the data\n",
    "\n",
    "Use a Python command to print the first five rows of the data."
   ]
  },
  {
   "cell_type": "code",
   "execution_count": 5,
   "id": "b21a116c",
   "metadata": {
    "execution": {
     "iopub.execute_input": "2023-07-12T16:58:49.578665Z",
     "iopub.status.busy": "2023-07-12T16:58:49.578294Z",
     "iopub.status.idle": "2023-07-12T16:58:49.599303Z",
     "shell.execute_reply": "2023-07-12T16:58:49.598513Z"
    },
    "papermill": {
     "duration": 0.036732,
     "end_time": "2023-07-12T16:58:49.601386",
     "exception": false,
     "start_time": "2023-07-12T16:58:49.564654",
     "status": "completed"
    },
    "tags": []
   },
   "outputs": [
    {
     "data": {
      "text/html": [
       "<div>\n",
       "<style scoped>\n",
       "    .dataframe tbody tr th:only-of-type {\n",
       "        vertical-align: middle;\n",
       "    }\n",
       "\n",
       "    .dataframe tbody tr th {\n",
       "        vertical-align: top;\n",
       "    }\n",
       "\n",
       "    .dataframe thead th {\n",
       "        text-align: right;\n",
       "    }\n",
       "</style>\n",
       "<table border=\"1\" class=\"dataframe\">\n",
       "  <thead>\n",
       "    <tr style=\"text-align: right;\">\n",
       "      <th></th>\n",
       "      <th>competitorname</th>\n",
       "      <th>chocolate</th>\n",
       "      <th>fruity</th>\n",
       "      <th>caramel</th>\n",
       "      <th>peanutyalmondy</th>\n",
       "      <th>nougat</th>\n",
       "      <th>crispedricewafer</th>\n",
       "      <th>hard</th>\n",
       "      <th>bar</th>\n",
       "      <th>pluribus</th>\n",
       "      <th>sugarpercent</th>\n",
       "      <th>pricepercent</th>\n",
       "      <th>winpercent</th>\n",
       "    </tr>\n",
       "    <tr>\n",
       "      <th>id</th>\n",
       "      <th></th>\n",
       "      <th></th>\n",
       "      <th></th>\n",
       "      <th></th>\n",
       "      <th></th>\n",
       "      <th></th>\n",
       "      <th></th>\n",
       "      <th></th>\n",
       "      <th></th>\n",
       "      <th></th>\n",
       "      <th></th>\n",
       "      <th></th>\n",
       "      <th></th>\n",
       "    </tr>\n",
       "  </thead>\n",
       "  <tbody>\n",
       "    <tr>\n",
       "      <th>0</th>\n",
       "      <td>100 Grand</td>\n",
       "      <td>Yes</td>\n",
       "      <td>No</td>\n",
       "      <td>Yes</td>\n",
       "      <td>No</td>\n",
       "      <td>No</td>\n",
       "      <td>Yes</td>\n",
       "      <td>No</td>\n",
       "      <td>Yes</td>\n",
       "      <td>No</td>\n",
       "      <td>0.732</td>\n",
       "      <td>0.860</td>\n",
       "      <td>66.971725</td>\n",
       "    </tr>\n",
       "    <tr>\n",
       "      <th>1</th>\n",
       "      <td>3 Musketeers</td>\n",
       "      <td>Yes</td>\n",
       "      <td>No</td>\n",
       "      <td>No</td>\n",
       "      <td>No</td>\n",
       "      <td>Yes</td>\n",
       "      <td>No</td>\n",
       "      <td>No</td>\n",
       "      <td>Yes</td>\n",
       "      <td>No</td>\n",
       "      <td>0.604</td>\n",
       "      <td>0.511</td>\n",
       "      <td>67.602936</td>\n",
       "    </tr>\n",
       "    <tr>\n",
       "      <th>2</th>\n",
       "      <td>Air Heads</td>\n",
       "      <td>No</td>\n",
       "      <td>Yes</td>\n",
       "      <td>No</td>\n",
       "      <td>No</td>\n",
       "      <td>No</td>\n",
       "      <td>No</td>\n",
       "      <td>No</td>\n",
       "      <td>No</td>\n",
       "      <td>No</td>\n",
       "      <td>0.906</td>\n",
       "      <td>0.511</td>\n",
       "      <td>52.341465</td>\n",
       "    </tr>\n",
       "    <tr>\n",
       "      <th>3</th>\n",
       "      <td>Almond Joy</td>\n",
       "      <td>Yes</td>\n",
       "      <td>No</td>\n",
       "      <td>No</td>\n",
       "      <td>Yes</td>\n",
       "      <td>No</td>\n",
       "      <td>No</td>\n",
       "      <td>No</td>\n",
       "      <td>Yes</td>\n",
       "      <td>No</td>\n",
       "      <td>0.465</td>\n",
       "      <td>0.767</td>\n",
       "      <td>50.347546</td>\n",
       "    </tr>\n",
       "    <tr>\n",
       "      <th>4</th>\n",
       "      <td>Baby Ruth</td>\n",
       "      <td>Yes</td>\n",
       "      <td>No</td>\n",
       "      <td>Yes</td>\n",
       "      <td>Yes</td>\n",
       "      <td>Yes</td>\n",
       "      <td>No</td>\n",
       "      <td>No</td>\n",
       "      <td>Yes</td>\n",
       "      <td>No</td>\n",
       "      <td>0.604</td>\n",
       "      <td>0.767</td>\n",
       "      <td>56.914547</td>\n",
       "    </tr>\n",
       "  </tbody>\n",
       "</table>\n",
       "</div>"
      ],
      "text/plain": [
       "   competitorname chocolate fruity caramel peanutyalmondy nougat  \\\n",
       "id                                                                 \n",
       "0       100 Grand       Yes     No     Yes             No     No   \n",
       "1    3 Musketeers       Yes     No      No             No    Yes   \n",
       "2       Air Heads        No    Yes      No             No     No   \n",
       "3      Almond Joy       Yes     No      No            Yes     No   \n",
       "4       Baby Ruth       Yes     No     Yes            Yes    Yes   \n",
       "\n",
       "   crispedricewafer hard  bar pluribus  sugarpercent  pricepercent  winpercent  \n",
       "id                                                                              \n",
       "0               Yes   No  Yes       No         0.732         0.860   66.971725  \n",
       "1                No   No  Yes       No         0.604         0.511   67.602936  \n",
       "2                No   No   No       No         0.906         0.511   52.341465  \n",
       "3                No   No  Yes       No         0.465         0.767   50.347546  \n",
       "4                No   No  Yes       No         0.604         0.767   56.914547  "
      ]
     },
     "execution_count": 5,
     "metadata": {},
     "output_type": "execute_result"
    }
   ],
   "source": [
    "# Print the first five rows of the data\n",
    "candy_data.head(5) # Your code here"
   ]
  },
  {
   "cell_type": "markdown",
   "id": "b495ff40",
   "metadata": {
    "papermill": {
     "duration": 0.012741,
     "end_time": "2023-07-12T16:58:49.627223",
     "exception": false,
     "start_time": "2023-07-12T16:58:49.614482",
     "status": "completed"
    },
    "tags": []
   },
   "source": [
    "The dataset contains 83 rows, where each corresponds to a different candy bar.  There are 13 columns:\n",
    "- `'competitorname'` contains the name of the candy bar. \n",
    "- the next **9** columns (from `'chocolate'` to `'pluribus'`) describe the candy.  For instance, rows with chocolate candies have `\"Yes\"` in the `'chocolate'` column (and candies without chocolate have `\"No\"` in the same column).\n",
    "- `'sugarpercent'` provides some indication of the amount of sugar, where higher values signify higher sugar content.\n",
    "- `'pricepercent'` shows the price per unit, relative to the other candies in the dataset.\n",
    "- `'winpercent'` is calculated from the survey results; higher values indicate that the candy was more popular with survey respondents.\n",
    "\n",
    "Use the first five rows of the data to answer the questions below."
   ]
  },
  {
   "cell_type": "code",
   "execution_count": 6,
   "id": "528548a8",
   "metadata": {
    "execution": {
     "iopub.execute_input": "2023-07-12T16:58:49.654387Z",
     "iopub.status.busy": "2023-07-12T16:58:49.653939Z",
     "iopub.status.idle": "2023-07-12T16:58:49.663593Z",
     "shell.execute_reply": "2023-07-12T16:58:49.662568Z"
    },
    "papermill": {
     "duration": 0.025884,
     "end_time": "2023-07-12T16:58:49.665842",
     "exception": false,
     "start_time": "2023-07-12T16:58:49.639958",
     "status": "completed"
    },
    "tags": []
   },
   "outputs": [
    {
     "data": {
      "application/javascript": [
       "parent.postMessage({\"jupyterEvent\": \"custom.exercise_interaction\", \"data\": {\"outcomeType\": 1, \"valueTowardsCompletion\": 0.3333333333333333, \"interactionType\": 1, \"questionType\": 1, \"questionId\": \"2_ReviewData\", \"learnToolsVersion\": \"0.3.4\", \"failureMessage\": \"\", \"exceptionClass\": \"\", \"trace\": \"\"}}, \"*\")"
      ],
      "text/plain": [
       "<IPython.core.display.Javascript object>"
      ]
     },
     "metadata": {},
     "output_type": "display_data"
    },
    {
     "data": {
      "text/markdown": [
       "<span style=\"color:#33cc33\">Correct</span>"
      ],
      "text/plain": [
       "Correct"
      ]
     },
     "metadata": {},
     "output_type": "display_data"
    }
   ],
   "source": [
    "# Fill in the line below: Which candy was more popular with survey respondents:\n",
    "# '3 Musketeers' or 'Almond Joy'?  (Please enclose your answer in single quotes.)\n",
    "more_popular = '3 Musketeers'\n",
    "\n",
    "# Fill in the line below: Which candy has higher sugar content: 'Air Heads'\n",
    "# or 'Baby Ruth'? (Please enclose your answer in single quotes.)\n",
    "more_sugar = 'Air Heads'\n",
    "\n",
    "# Check your answers\n",
    "step_2.check()"
   ]
  },
  {
   "cell_type": "code",
   "execution_count": 7,
   "id": "6e1abc7b",
   "metadata": {
    "execution": {
     "iopub.execute_input": "2023-07-12T16:58:49.693683Z",
     "iopub.status.busy": "2023-07-12T16:58:49.693308Z",
     "iopub.status.idle": "2023-07-12T16:58:49.698429Z",
     "shell.execute_reply": "2023-07-12T16:58:49.697183Z"
    },
    "papermill": {
     "duration": 0.021825,
     "end_time": "2023-07-12T16:58:49.700747",
     "exception": false,
     "start_time": "2023-07-12T16:58:49.678922",
     "status": "completed"
    },
    "tags": []
   },
   "outputs": [],
   "source": [
    "# Lines below will give you a hint or solution code\n",
    "#step_2.hint()\n",
    "#step_2.solution()"
   ]
  },
  {
   "cell_type": "markdown",
   "id": "9755ec4a",
   "metadata": {
    "papermill": {
     "duration": 0.012855,
     "end_time": "2023-07-12T16:58:49.726590",
     "exception": false,
     "start_time": "2023-07-12T16:58:49.713735",
     "status": "completed"
    },
    "tags": []
   },
   "source": [
    "## Step 3: The role of sugar\n",
    "\n",
    "Do people tend to prefer candies with higher sugar content?  \n",
    "\n",
    "#### Part A\n",
    "\n",
    "Create a scatter plot that shows the relationship between `'sugarpercent'` (on the horizontal x-axis) and `'winpercent'` (on the vertical y-axis).  _Don't add a regression line just yet -- you'll do that in the next step!_"
   ]
  },
  {
   "cell_type": "code",
   "execution_count": 8,
   "id": "1366c449",
   "metadata": {
    "execution": {
     "iopub.execute_input": "2023-07-12T16:58:49.754203Z",
     "iopub.status.busy": "2023-07-12T16:58:49.753804Z",
     "iopub.status.idle": "2023-07-12T16:58:50.100657Z",
     "shell.execute_reply": "2023-07-12T16:58:50.099557Z"
    },
    "papermill": {
     "duration": 0.36345,
     "end_time": "2023-07-12T16:58:50.103174",
     "exception": false,
     "start_time": "2023-07-12T16:58:49.739724",
     "status": "completed"
    },
    "tags": []
   },
   "outputs": [
    {
     "data": {
      "application/javascript": [
       "parent.postMessage({\"jupyterEvent\": \"custom.exercise_interaction\", \"data\": {\"outcomeType\": 1, \"valueTowardsCompletion\": 0.3333333333333333, \"interactionType\": 1, \"questionType\": 2, \"questionId\": \"3.1_PlotBlueScatter\", \"learnToolsVersion\": \"0.3.4\", \"failureMessage\": \"\", \"exceptionClass\": \"\", \"trace\": \"\"}}, \"*\")"
      ],
      "text/plain": [
       "<IPython.core.display.Javascript object>"
      ]
     },
     "metadata": {},
     "output_type": "display_data"
    },
    {
     "data": {
      "text/markdown": [
       "<span style=\"color:#33cc33\">Correct</span>"
      ],
      "text/plain": [
       "Correct"
      ]
     },
     "metadata": {},
     "output_type": "display_data"
    },
    {
     "data": {
      "image/png": "[encoded data removed]",
      "text/plain": [
       "<Figure size 640x480 with 1 Axes>"
      ]
     },
     "metadata": {},
     "output_type": "display_data"
    }
   ],
   "source": [
    "# Scatter plot showing the relationship between 'sugarpercent' and 'winpercent'\n",
    "sns.scatterplot(x=candy_data['sugarpercent'],y=candy_data['winpercent']) # Your code here\n",
    "\n",
    "# Check your answer\n",
    "step_3.a.check()"
   ]
  },
  {
   "cell_type": "code",
   "execution_count": 9,
   "id": "68234952",
   "metadata": {
    "execution": {
     "iopub.execute_input": "2023-07-12T16:58:50.132676Z",
     "iopub.status.busy": "2023-07-12T16:58:50.132303Z",
     "iopub.status.idle": "2023-07-12T16:58:50.137232Z",
     "shell.execute_reply": "2023-07-12T16:58:50.136110Z"
    },
    "papermill": {
     "duration": 0.02232,
     "end_time": "2023-07-12T16:58:50.139495",
     "exception": false,
     "start_time": "2023-07-12T16:58:50.117175",
     "status": "completed"
    },
    "tags": []
   },
   "outputs": [],
   "source": [
    "# Lines below will give you a hint or solution code\n",
    "#step_3.a.hint()\n",
    "#step_3.a.solution_plot()"
   ]
  },
  {
   "cell_type": "markdown",
   "id": "a8220cb1",
   "metadata": {
    "papermill": {
     "duration": 0.013161,
     "end_time": "2023-07-12T16:58:50.166430",
     "exception": false,
     "start_time": "2023-07-12T16:58:50.153269",
     "status": "completed"
    },
    "tags": []
   },
   "source": [
    "#### Part B\n",
    "\n",
    "Does the scatter plot show a **strong** correlation between the two variables?  If so, are candies with more sugar relatively more or less popular with the survey respondents?"
   ]
  },
  {
   "cell_type": "code",
   "execution_count": 10,
   "id": "491fa5fa",
   "metadata": {
    "execution": {
     "iopub.execute_input": "2023-07-12T16:58:50.195644Z",
     "iopub.status.busy": "2023-07-12T16:58:50.195237Z",
     "iopub.status.idle": "2023-07-12T16:58:50.200357Z",
     "shell.execute_reply": "2023-07-12T16:58:50.199241Z"
    },
    "papermill": {
     "duration": 0.022511,
     "end_time": "2023-07-12T16:58:50.202631",
     "exception": false,
     "start_time": "2023-07-12T16:58:50.180120",
     "status": "completed"
    },
    "tags": []
   },
   "outputs": [],
   "source": [
    "#step_3.b.hint()"
   ]
  },
  {
   "cell_type": "code",
   "execution_count": 11,
   "id": "79d167be",
   "metadata": {
    "execution": {
     "iopub.execute_input": "2023-07-12T16:58:50.232278Z",
     "iopub.status.busy": "2023-07-12T16:58:50.231879Z",
     "iopub.status.idle": "2023-07-12T16:58:50.241976Z",
     "shell.execute_reply": "2023-07-12T16:58:50.240763Z"
    },
    "papermill": {
     "duration": 0.027473,
     "end_time": "2023-07-12T16:58:50.244186",
     "exception": false,
     "start_time": "2023-07-12T16:58:50.216713",
     "status": "completed"
    },
    "tags": []
   },
   "outputs": [
    {
     "data": {
      "application/javascript": [
       "parent.postMessage({\"jupyterEvent\": \"custom.exercise_interaction\", \"data\": {\"interactionType\": 3, \"questionType\": 4, \"questionId\": \"3.2_ThinkBlueScatter\", \"learnToolsVersion\": \"0.3.4\", \"valueTowardsCompletion\": 0.0, \"failureMessage\": \"\", \"exceptionClass\": \"\", \"trace\": \"\", \"outcomeType\": 4}}, \"*\")"
      ],
      "text/plain": [
       "<IPython.core.display.Javascript object>"
      ]
     },
     "metadata": {},
     "output_type": "display_data"
    },
    {
     "data": {
      "text/markdown": [
       "<span style=\"color:#33cc99\">Solution:</span> The scatter plot does not show a strong correlation between the two variables. Since there is no clear relationship between the two variables, this tells us that sugar content does not play a strong role in candy popularity."
      ],
      "text/plain": [
       "Solution: The scatter plot does not show a strong correlation between the two variables. Since there is no clear relationship between the two variables, this tells us that sugar content does not play a strong role in candy popularity."
      ]
     },
     "metadata": {},
     "output_type": "display_data"
    }
   ],
   "source": [
    "# Check your answer (Run this code cell to receive credit!)\n",
    "step_3.b.solution()"
   ]
  },
  {
   "cell_type": "markdown",
   "id": "46f98293",
   "metadata": {
    "papermill": {
     "duration": 0.013691,
     "end_time": "2023-07-12T16:58:50.272019",
     "exception": false,
     "start_time": "2023-07-12T16:58:50.258328",
     "status": "completed"
    },
    "tags": []
   },
   "source": [
    "## Step 4: Take a closer look\n",
    "\n",
    "#### Part A\n",
    "\n",
    "Create the same scatter plot you created in **Step 3**, but now with a regression line!"
   ]
  },
  {
   "cell_type": "code",
   "execution_count": 12,
   "id": "7ca5a43e",
   "metadata": {
    "execution": {
     "iopub.execute_input": "2023-07-12T16:58:50.302234Z",
     "iopub.status.busy": "2023-07-12T16:58:50.301683Z",
     "iopub.status.idle": "2023-07-12T16:58:50.730439Z",
     "shell.execute_reply": "2023-07-12T16:58:50.729341Z"
    },
    "papermill": {
     "duration": 0.447137,
     "end_time": "2023-07-12T16:58:50.733092",
     "exception": false,
     "start_time": "2023-07-12T16:58:50.285955",
     "status": "completed"
    },
    "tags": []
   },
   "outputs": [
    {
     "data": {
      "application/javascript": [
       "parent.postMessage({\"jupyterEvent\": \"custom.exercise_interaction\", \"data\": {\"outcomeType\": 1, \"valueTowardsCompletion\": 0.3333333333333333, \"interactionType\": 1, \"questionType\": 2, \"questionId\": \"4.1_PlotBlueReg\", \"learnToolsVersion\": \"0.3.4\", \"failureMessage\": \"\", \"exceptionClass\": \"\", \"trace\": \"\"}}, \"*\")"
      ],
      "text/plain": [
       "<IPython.core.display.Javascript object>"
      ]
     },
     "metadata": {},
     "output_type": "display_data"
    },
    {
     "data": {
      "text/markdown": [
       "<span style=\"color:#33cc33\">Correct</span>"
      ],
      "text/plain": [
       "Correct"
      ]
     },
     "metadata": {},
     "output_type": "display_data"
    },
    {
     "data": {
      "image/png": "[encoded data removed]",
      "text/plain": [
       "<Figure size 640x480 with 1 Axes>"
      ]
     },
     "metadata": {},
     "output_type": "display_data"
    }
   ],
   "source": [
    "# Scatter plot w/ regression line showing the relationship between 'sugarpercent' and 'winpercent'\n",
    " # Your code here\n",
    "sns.regplot(x=candy_data['sugarpercent'],y=candy_data['winpercent']) # Your code here\n",
    "\n",
    "# Check your answer\n",
    "step_4.a.check()"
   ]
  },
  {
   "cell_type": "code",
   "execution_count": 13,
   "id": "8c568b52",
   "metadata": {
    "execution": {
     "iopub.execute_input": "2023-07-12T16:58:50.765810Z",
     "iopub.status.busy": "2023-07-12T16:58:50.765004Z",
     "iopub.status.idle": "2023-07-12T16:58:50.770108Z",
     "shell.execute_reply": "2023-07-12T16:58:50.768998Z"
    },
    "papermill": {
     "duration": 0.024273,
     "end_time": "2023-07-12T16:58:50.772582",
     "exception": false,
     "start_time": "2023-07-12T16:58:50.748309",
     "status": "completed"
    },
    "tags": []
   },
   "outputs": [],
   "source": [
    "# Lines below will give you a hint or solution code\n",
    "#step_4.a.hint()\n",
    "#step_4.a.solution_plot()"
   ]
  },
  {
   "cell_type": "markdown",
   "id": "45042084",
   "metadata": {
    "papermill": {
     "duration": 0.014595,
     "end_time": "2023-07-12T16:58:50.802803",
     "exception": false,
     "start_time": "2023-07-12T16:58:50.788208",
     "status": "completed"
    },
    "tags": []
   },
   "source": [
    "#### Part B\n",
    "\n",
    "According to the plot above, is there a **slight** correlation between `'winpercent'` and `'sugarpercent'`?  What does this tell you about the candy that people tend to prefer?"
   ]
  },
  {
   "cell_type": "code",
   "execution_count": 14,
   "id": "cd9230c7",
   "metadata": {
    "execution": {
     "iopub.execute_input": "2023-07-12T16:58:50.835405Z",
     "iopub.status.busy": "2023-07-12T16:58:50.834991Z",
     "iopub.status.idle": "2023-07-12T16:58:50.839990Z",
     "shell.execute_reply": "2023-07-12T16:58:50.838786Z"
    },
    "papermill": {
     "duration": 0.02368,
     "end_time": "2023-07-12T16:58:50.842251",
     "exception": false,
     "start_time": "2023-07-12T16:58:50.818571",
     "status": "completed"
    },
    "tags": []
   },
   "outputs": [],
   "source": [
    "#step_4.b.hint()"
   ]
  },
  {
   "cell_type": "code",
   "execution_count": 15,
   "id": "b8e0c095",
   "metadata": {
    "execution": {
     "iopub.execute_input": "2023-07-12T16:58:50.874578Z",
     "iopub.status.busy": "2023-07-12T16:58:50.874205Z",
     "iopub.status.idle": "2023-07-12T16:58:50.883079Z",
     "shell.execute_reply": "2023-07-12T16:58:50.882103Z"
    },
    "papermill": {
     "duration": 0.027656,
     "end_time": "2023-07-12T16:58:50.885220",
     "exception": false,
     "start_time": "2023-07-12T16:58:50.857564",
     "status": "completed"
    },
    "tags": []
   },
   "outputs": [
    {
     "data": {
      "application/javascript": [
       "parent.postMessage({\"jupyterEvent\": \"custom.exercise_interaction\", \"data\": {\"interactionType\": 3, \"questionType\": 4, \"questionId\": \"4.2_ThinkBlueReg\", \"learnToolsVersion\": \"0.3.4\", \"valueTowardsCompletion\": 0.0, \"failureMessage\": \"\", \"exceptionClass\": \"\", \"trace\": \"\", \"outcomeType\": 4}}, \"*\")"
      ],
      "text/plain": [
       "<IPython.core.display.Javascript object>"
      ]
     },
     "metadata": {},
     "output_type": "display_data"
    },
    {
     "data": {
      "text/markdown": [
       "<span style=\"color:#33cc99\">Solution:</span> Since the regression line has a slightly positive slope, this tells us that there is a slightly positive correlation between `'winpercent'` and `'sugarpercent'`. Thus, people have a slight preference for candies containing relatively more sugar."
      ],
      "text/plain": [
       "Solution: Since the regression line has a slightly positive slope, this tells us that there is a slightly positive correlation between `'winpercent'` and `'sugarpercent'`. Thus, people have a slight preference for candies containing relatively more sugar."
      ]
     },
     "metadata": {},
     "output_type": "display_data"
    }
   ],
   "source": [
    "# Check your answer (Run this code cell to receive credit!)\n",
    "step_4.b.solution()"
   ]
  },
  {
   "cell_type": "markdown",
   "id": "df9f8a40",
   "metadata": {
    "papermill": {
     "duration": 0.015294,
     "end_time": "2023-07-12T16:58:50.916270",
     "exception": false,
     "start_time": "2023-07-12T16:58:50.900976",
     "status": "completed"
    },
    "tags": []
   },
   "source": [
    "## Step 5: Chocolate!\n",
    "\n",
    "In the code cell below, create a scatter plot to show the relationship between `'pricepercent'` (on the horizontal x-axis) and `'winpercent'` (on the vertical y-axis). Use the `'chocolate'` column to color-code the points.  _Don't add any regression lines just yet -- you'll do that in the next step!_"
   ]
  },
  {
   "cell_type": "code",
   "execution_count": 16,
   "id": "d4be3a8f",
   "metadata": {
    "execution": {
     "iopub.execute_input": "2023-07-12T16:58:50.948380Z",
     "iopub.status.busy": "2023-07-12T16:58:50.947973Z",
     "iopub.status.idle": "2023-07-12T16:58:51.300665Z",
     "shell.execute_reply": "2023-07-12T16:58:51.299810Z"
    },
    "papermill": {
     "duration": 0.371971,
     "end_time": "2023-07-12T16:58:51.303471",
     "exception": false,
     "start_time": "2023-07-12T16:58:50.931500",
     "status": "completed"
    },
    "tags": []
   },
   "outputs": [
    {
     "data": {
      "application/javascript": [
       "parent.postMessage({\"jupyterEvent\": \"custom.exercise_interaction\", \"data\": {\"outcomeType\": 1, \"valueTowardsCompletion\": 0.3333333333333333, \"interactionType\": 1, \"questionType\": 2, \"questionId\": \"5_ColorScatter\", \"learnToolsVersion\": \"0.3.4\", \"failureMessage\": \"\", \"exceptionClass\": \"\", \"trace\": \"\"}}, \"*\")"
      ],
      "text/plain": [
       "<IPython.core.display.Javascript object>"
      ]
     },
     "metadata": {},
     "output_type": "display_data"
    },
    {
     "data": {
      "text/markdown": [
       "<span style=\"color:#33cc33\">Correct</span>"
      ],
      "text/plain": [
       "Correct"
      ]
     },
     "metadata": {},
     "output_type": "display_data"
    },
    {
     "data": {
      "image/png": "[encoded data removed]",
      "text/plain": [
       "<Figure size 640x480 with 1 Axes>"
      ]
     },
     "metadata": {},
     "output_type": "display_data"
    }
   ],
   "source": [
    "# Scatter plot showing the relationship between 'pricepercent', 'winpercent', and 'chocolate'\n",
    "sns.scatterplot(x=candy_data['sugarpercent'],y=candy_data['winpercent'],hue=candy_data['chocolate']) # Your code here\n",
    " # Your code here\n",
    "\n",
    "# Check your answer\n",
    "step_5.check()"
   ]
  },
  {
   "cell_type": "code",
   "execution_count": 17,
   "id": "d15f413f",
   "metadata": {
    "execution": {
     "iopub.execute_input": "2023-07-12T16:58:51.338033Z",
     "iopub.status.busy": "2023-07-12T16:58:51.337260Z",
     "iopub.status.idle": "2023-07-12T16:58:51.341923Z",
     "shell.execute_reply": "2023-07-12T16:58:51.340999Z"
    },
    "papermill": {
     "duration": 0.024232,
     "end_time": "2023-07-12T16:58:51.344058",
     "exception": false,
     "start_time": "2023-07-12T16:58:51.319826",
     "status": "completed"
    },
    "tags": []
   },
   "outputs": [],
   "source": [
    "# Lines below will give you a hint or solution code\n",
    "#step_5.hint()\n",
    "#step_5.solution_plot()"
   ]
  },
  {
   "cell_type": "markdown",
   "id": "b8d9ce62",
   "metadata": {
    "papermill": {
     "duration": 0.016053,
     "end_time": "2023-07-12T16:58:51.376639",
     "exception": false,
     "start_time": "2023-07-12T16:58:51.360586",
     "status": "completed"
    },
    "tags": []
   },
   "source": [
    "Can you see any interesting patterns in the scatter plot?  We'll investigate this plot further  by adding regression lines in the next step!\n",
    "\n",
    "## Step 6: Investigate chocolate\n",
    "\n",
    "#### Part A\n",
    "\n",
    "Create the same scatter plot you created in **Step 5**, but now with two regression lines, corresponding to (1) chocolate candies and (2) candies without chocolate."
   ]
  },
  {
   "cell_type": "code",
   "execution_count": 18,
   "id": "22ef01fc",
   "metadata": {
    "execution": {
     "iopub.execute_input": "2023-07-12T16:58:51.411527Z",
     "iopub.status.busy": "2023-07-12T16:58:51.411087Z",
     "iopub.status.idle": "2023-07-12T16:58:52.193766Z",
     "shell.execute_reply": "2023-07-12T16:58:52.192523Z"
    },
    "papermill": {
     "duration": 0.803241,
     "end_time": "2023-07-12T16:58:52.196206",
     "exception": false,
     "start_time": "2023-07-12T16:58:51.392965",
     "status": "completed"
    },
    "tags": []
   },
   "outputs": [
    {
     "data": {
      "application/javascript": [
       "parent.postMessage({\"jupyterEvent\": \"custom.exercise_interaction\", \"data\": {\"outcomeType\": 1, \"valueTowardsCompletion\": 0.3333333333333333, \"interactionType\": 1, \"questionType\": 2, \"questionId\": \"6.1_PlotColorReg\", \"learnToolsVersion\": \"0.3.4\", \"failureMessage\": \"\", \"exceptionClass\": \"\", \"trace\": \"\"}}, \"*\")"
      ],
      "text/plain": [
       "<IPython.core.display.Javascript object>"
      ]
     },
     "metadata": {},
     "output_type": "display_data"
    },
    {
     "data": {
      "text/markdown": [
       "<span style=\"color:#33cc33\">Correct</span>"
      ],
      "text/plain": [
       "Correct"
      ]
     },
     "metadata": {},
     "output_type": "display_data"
    },
    {
     "data": {
      "image/png": "[encoded data removed]",
      "text/plain": [
       "<Figure size 578.611x500 with 1 Axes>"
      ]
     },
     "metadata": {},
     "output_type": "display_data"
    }
   ],
   "source": [
    "# Color-coded scatter plot w/ regression lines\n",
    "sns.lmplot(x=\"sugarpercent\",y=\"winpercent\",hue=\"chocolate\", data=candy_data) # Your code here\n",
    " # Your code here\n",
    "\n",
    "# Check your answer\n",
    "step_6.a.check()"
   ]
  },
  {
   "cell_type": "code",
   "execution_count": 19,
   "id": "71c9649c",
   "metadata": {
    "execution": {
     "iopub.execute_input": "2023-07-12T16:58:52.232582Z",
     "iopub.status.busy": "2023-07-12T16:58:52.232162Z",
     "iopub.status.idle": "2023-07-12T16:58:52.236953Z",
     "shell.execute_reply": "2023-07-12T16:58:52.235833Z"
    },
    "papermill": {
     "duration": 0.025979,
     "end_time": "2023-07-12T16:58:52.239446",
     "exception": false,
     "start_time": "2023-07-12T16:58:52.213467",
     "status": "completed"
    },
    "tags": []
   },
   "outputs": [],
   "source": [
    "# Lines below will give you a hint or solution code\n",
    "#step_6.a.hint()\n",
    "#step_6.a.solution_plot()"
   ]
  },
  {
   "cell_type": "markdown",
   "id": "2ffc8e90",
   "metadata": {
    "papermill": {
     "duration": 0.016831,
     "end_time": "2023-07-12T16:58:52.273661",
     "exception": false,
     "start_time": "2023-07-12T16:58:52.256830",
     "status": "completed"
    },
    "tags": []
   },
   "source": [
    "#### Part B\n",
    "\n",
    "Using the regression lines, what conclusions can you draw about the effects of chocolate and price on candy popularity?"
   ]
  },
  {
   "cell_type": "code",
   "execution_count": 20,
   "id": "f2582b61",
   "metadata": {
    "execution": {
     "iopub.execute_input": "2023-07-12T16:58:52.310105Z",
     "iopub.status.busy": "2023-07-12T16:58:52.309642Z",
     "iopub.status.idle": "2023-07-12T16:58:52.314592Z",
     "shell.execute_reply": "2023-07-12T16:58:52.313391Z"
    },
    "papermill": {
     "duration": 0.025942,
     "end_time": "2023-07-12T16:58:52.316925",
     "exception": false,
     "start_time": "2023-07-12T16:58:52.290983",
     "status": "completed"
    },
    "tags": []
   },
   "outputs": [],
   "source": [
    "#step_6.b.hint()"
   ]
  },
  {
   "cell_type": "code",
   "execution_count": 21,
   "id": "b7502e8a",
   "metadata": {
    "execution": {
     "iopub.execute_input": "2023-07-12T16:58:52.353485Z",
     "iopub.status.busy": "2023-07-12T16:58:52.352854Z",
     "iopub.status.idle": "2023-07-12T16:58:52.361505Z",
     "shell.execute_reply": "2023-07-12T16:58:52.360644Z"
    },
    "papermill": {
     "duration": 0.029391,
     "end_time": "2023-07-12T16:58:52.363628",
     "exception": false,
     "start_time": "2023-07-12T16:58:52.334237",
     "status": "completed"
    },
    "tags": []
   },
   "outputs": [
    {
     "data": {
      "application/javascript": [
       "parent.postMessage({\"jupyterEvent\": \"custom.exercise_interaction\", \"data\": {\"interactionType\": 3, \"questionType\": 4, \"questionId\": \"6.2_ThinkColorReg\", \"learnToolsVersion\": \"0.3.4\", \"valueTowardsCompletion\": 0.0, \"failureMessage\": \"\", \"exceptionClass\": \"\", \"trace\": \"\", \"outcomeType\": 4}}, \"*\")"
      ],
      "text/plain": [
       "<IPython.core.display.Javascript object>"
      ]
     },
     "metadata": {},
     "output_type": "display_data"
    },
    {
     "data": {
      "text/markdown": [
       "<span style=\"color:#33cc99\">Solution:</span> We'll begin with the regression line for chocolate candies. Since this line has a slightly positive slope, we can say that more expensive chocolate candies tend to be more popular (than relatively cheaper chocolate candies).  Likewise, since the regression line for candies without chocolate has a negative slope, we can say that if candies don't contain chocolate, they tend to be more popular when they are cheaper.  One important note, however, is that the dataset is quite small -- so we shouldn't invest too much trust in these patterns!  To inspire more confidence in the results, we should add more candies to the dataset."
      ],
      "text/plain": [
       "Solution: We'll begin with the regression line for chocolate candies. Since this line has a slightly positive slope, we can say that more expensive chocolate candies tend to be more popular (than relatively cheaper chocolate candies).  Likewise, since the regression line for candies without chocolate has a negative slope, we can say that if candies don't contain chocolate, they tend to be more popular when they are cheaper.  One important note, however, is that the dataset is quite small -- so we shouldn't invest too much trust in these patterns!  To inspire more confidence in the results, we should add more candies to the dataset."
      ]
     },
     "metadata": {},
     "output_type": "display_data"
    }
   ],
   "source": [
    "# Check your answer (Run this code cell to receive credit!)\n",
    "step_6.b.solution()"
   ]
  },
  {
   "cell_type": "markdown",
   "id": "15d896d2",
   "metadata": {
    "papermill": {
     "duration": 0.017332,
     "end_time": "2023-07-12T16:58:52.398663",
     "exception": false,
     "start_time": "2023-07-12T16:58:52.381331",
     "status": "completed"
    },
    "tags": []
   },
   "source": [
    "## Step 7: Everybody loves chocolate.\n",
    "\n",
    "#### Part A\n",
    "\n",
    "Create a categorical scatter plot to highlight the relationship between `'chocolate'` and `'winpercent'`.  Put `'chocolate'` on the (horizontal) x-axis, and `'winpercent'` on the (vertical) y-axis."
   ]
  },
  {
   "cell_type": "code",
   "execution_count": 22,
   "id": "b6028d49",
   "metadata": {
    "execution": {
     "iopub.execute_input": "2023-07-12T16:58:52.437387Z",
     "iopub.status.busy": "2023-07-12T16:58:52.436720Z",
     "iopub.status.idle": "2023-07-12T16:58:52.773792Z",
     "shell.execute_reply": "2023-07-12T16:58:52.772620Z"
    },
    "papermill": {
     "duration": 0.359817,
     "end_time": "2023-07-12T16:58:52.777045",
     "exception": false,
     "start_time": "2023-07-12T16:58:52.417228",
     "status": "completed"
    },
    "tags": []
   },
   "outputs": [
    {
     "data": {
      "application/javascript": [
       "parent.postMessage({\"jupyterEvent\": \"custom.exercise_interaction\", \"data\": {\"outcomeType\": 1, \"valueTowardsCompletion\": 0.3333333333333333, \"interactionType\": 1, \"questionType\": 2, \"questionId\": \"7.1_PlotSwarm\", \"learnToolsVersion\": \"0.3.4\", \"failureMessage\": \"\", \"exceptionClass\": \"\", \"trace\": \"\"}}, \"*\")"
      ],
      "text/plain": [
       "<IPython.core.display.Javascript object>"
      ]
     },
     "metadata": {},
     "output_type": "display_data"
    },
    {
     "data": {
      "text/markdown": [
       "<span style=\"color:#33cc33\">Correct</span>"
      ],
      "text/plain": [
       "Correct"
      ]
     },
     "metadata": {},
     "output_type": "display_data"
    },
    {
     "data": {
      "image/png": "[encoded data removed]",
      "text/plain": [
       "<Figure size 640x480 with 1 Axes>"
      ]
     },
     "metadata": {},
     "output_type": "display_data"
    }
   ],
   "source": [
    "# Scatter plot showing the relationship between 'chocolate' and 'winpercent'\n",
    "sns.swarmplot(x=candy_data['chocolate'],y=candy_data['winpercent']) # Your code here\n",
    " # Your code here\n",
    "\n",
    "# Check your answer\n",
    "step_7.a.check()"
   ]
  },
  {
   "cell_type": "code",
   "execution_count": 23,
   "id": "d33a7b40",
   "metadata": {
    "execution": {
     "iopub.execute_input": "2023-07-12T16:58:52.817515Z",
     "iopub.status.busy": "2023-07-12T16:58:52.817119Z",
     "iopub.status.idle": "2023-07-12T16:58:52.821760Z",
     "shell.execute_reply": "2023-07-12T16:58:52.820812Z"
    },
    "papermill": {
     "duration": 0.028046,
     "end_time": "2023-07-12T16:58:52.823967",
     "exception": false,
     "start_time": "2023-07-12T16:58:52.795921",
     "status": "completed"
    },
    "tags": []
   },
   "outputs": [],
   "source": [
    "# Lines below will give you a hint or solution code\n",
    "#step_7.a.hint()\n",
    "#step_7.a.solution_plot()"
   ]
  },
  {
   "cell_type": "markdown",
   "id": "01498e27",
   "metadata": {
    "papermill": {
     "duration": 0.018143,
     "end_time": "2023-07-12T16:58:52.860564",
     "exception": false,
     "start_time": "2023-07-12T16:58:52.842421",
     "status": "completed"
    },
    "tags": []
   },
   "source": [
    "#### Part B\n",
    "\n",
    "You decide to dedicate a section of your report to the fact that chocolate candies tend to be more popular than candies without chocolate.  Which plot is more appropriate to tell this story: the plot from **Step 6**, or the plot from **Step 7**?"
   ]
  },
  {
   "cell_type": "code",
   "execution_count": 24,
   "id": "a7fb5864",
   "metadata": {
    "execution": {
     "iopub.execute_input": "2023-07-12T16:58:52.899400Z",
     "iopub.status.busy": "2023-07-12T16:58:52.898599Z",
     "iopub.status.idle": "2023-07-12T16:58:52.903330Z",
     "shell.execute_reply": "2023-07-12T16:58:52.902494Z"
    },
    "papermill": {
     "duration": 0.026597,
     "end_time": "2023-07-12T16:58:52.905567",
     "exception": false,
     "start_time": "2023-07-12T16:58:52.878970",
     "status": "completed"
    },
    "tags": []
   },
   "outputs": [],
   "source": [
    "#step_7.b.hint()"
   ]
  },
  {
   "cell_type": "code",
   "execution_count": 25,
   "id": "d4a8862f",
   "metadata": {
    "execution": {
     "iopub.execute_input": "2023-07-12T16:58:52.944121Z",
     "iopub.status.busy": "2023-07-12T16:58:52.943686Z",
     "iopub.status.idle": "2023-07-12T16:58:52.953553Z",
     "shell.execute_reply": "2023-07-12T16:58:52.952289Z"
    },
    "papermill": {
     "duration": 0.031995,
     "end_time": "2023-07-12T16:58:52.956135",
     "exception": false,
     "start_time": "2023-07-12T16:58:52.924140",
     "status": "completed"
    },
    "tags": []
   },
   "outputs": [
    {
     "data": {
      "application/javascript": [
       "parent.postMessage({\"jupyterEvent\": \"custom.exercise_interaction\", \"data\": {\"interactionType\": 3, \"questionType\": 4, \"questionId\": \"7.2_ThinkSwarm\", \"learnToolsVersion\": \"0.3.4\", \"valueTowardsCompletion\": 0.0, \"failureMessage\": \"\", \"exceptionClass\": \"\", \"trace\": \"\", \"outcomeType\": 4}}, \"*\")"
      ],
      "text/plain": [
       "<IPython.core.display.Javascript object>"
      ]
     },
     "metadata": {},
     "output_type": "display_data"
    },
    {
     "data": {
      "text/markdown": [
       "<span style=\"color:#33cc99\">Solution:</span> In this case, the categorical scatter plot from **Step 7** is the more appropriate plot. While both plots tell the desired story, the plot from **Step 6** conveys far more information that could distract from the main point."
      ],
      "text/plain": [
       "Solution: In this case, the categorical scatter plot from **Step 7** is the more appropriate plot. While both plots tell the desired story, the plot from **Step 6** conveys far more information that could distract from the main point."
      ]
     },
     "metadata": {},
     "output_type": "display_data"
    }
   ],
   "source": [
    "# Check your answer (Run this code cell to receive credit!)\n",
    "step_7.b.solution()"
   ]
  },
  {
   "cell_type": "markdown",
   "id": "ecc0d25d",
   "metadata": {
    "papermill": {
     "duration": 0.018203,
     "end_time": "2023-07-12T16:58:52.992717",
     "exception": false,
     "start_time": "2023-07-12T16:58:52.974514",
     "status": "completed"
    },
    "tags": []
   },
   "source": [
    "## Keep going\n",
    "\n",
    "Explore **[histograms and density plots](https://www.kaggle.com/alexisbcook/distributions)**."
   ]
  },
  {
   "cell_type": "markdown",
   "id": "af7163a3",
   "metadata": {
    "papermill": {
     "duration": 0.018034,
     "end_time": "2023-07-12T16:58:53.029375",
     "exception": false,
     "start_time": "2023-07-12T16:58:53.011341",
     "status": "completed"
    },
    "tags": []
   },
   "source": [
    "---\n",
    "\n",
    "\n",
    "\n",
    "\n",
    "*Have questions or comments? Visit the [course discussion forum](https://www.kaggle.com/learn/data-visualization/discussion) to chat with other learners.*"
   ]
  }
 ],
 "metadata": {
  "kernelspec": {
   "display_name": "Python 3",
   "language": "python",
   "name": "python3"
  },
  "language_info": {
   "codemirror_mode": {
    "name": "ipython",
    "version": 3
   },
   "file_extension": ".py",
   "mimetype": "text/x-python",
   "name": "python",
   "nbconvert_exporter": "python",
   "pygments_lexer": "ipython3",
   "version": "3.10.12"
  },
  "papermill": {
   "default_parameters": {},
   "duration": 17.28029,
   "end_time": "2023-07-12T16:58:53.969495",
   "environment_variables": {},
   "exception": null,
   "input_path": "__notebook__.ipynb",
   "output_path": "__notebook__.ipynb",
   "parameters": {},
   "start_time": "2023-07-12T16:58:36.689205",
   "version": "2.4.0"
  }
 },
 "nbformat": 4,
 "nbformat_minor": 5
}
